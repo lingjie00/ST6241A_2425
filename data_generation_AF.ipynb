{
 "cells": [
  {
   "cell_type": "code",
   "execution_count": 1,
   "metadata": {
    "collapsed": true,
    "pycharm": {
     "name": "#%%\n"
    }
   },
   "outputs": [
    {
     "name": "stdout",
     "output_type": "stream",
     "text": [
      "True\n",
      "1\n",
      "NVIDIA GeForce RTX 3070 Ti Laptop GPU\n",
      "0\n"
     ]
    }
   ],
   "source": [
    "import torch,os\n",
    "import matplotlib.pyplot as plt\n",
    "import pandas as pd\n",
    "print(torch.cuda.is_available())\t\t # 查看GPu设备是否可用\n",
    "print(torch.cuda.device_count()) \t\t# 查看GPu设备数量\n",
    "print(torch.cuda.get_device_name())   \t# 查看当前GPu设备名称，默认设备id从0开始\n",
    "print(torch.cuda.current_device())\t\t# 查看当前GPu设备id"
   ]
  },
  {
   "cell_type": "code",
   "execution_count": 2,
   "outputs": [],
   "source": [
    "df_resale = pd.read_csv('dataset/resale_price/resale_price_train.csv')\n",
    "df_resale_test = pd.read_csv('dataset/resale_price/resale_price_test.csv')"
   ],
   "metadata": {
    "collapsed": false,
    "pycharm": {
     "name": "#%%\n"
    }
   }
  },
  {
   "cell_type": "code",
   "execution_count": 3,
   "outputs": [
    {
     "data": {
      "text/plain": "            town      month  resale_price  price_diff  price_log  \\\n0     ANG MO KIO   2000/2/1        218060       -8548  12.292526   \n1     ANG MO KIO   2000/3/1        225270        7210  12.325055   \n2     ANG MO KIO   2000/4/1        225847         577  12.327613   \n3     ANG MO KIO   2000/5/1        217008       -8839  12.287690   \n4     ANG MO KIO   2000/6/1        206930      -10078  12.240136   \n...          ...        ...           ...         ...        ...   \n7018      YISHUN   2022/8/1        474783      -10903  13.070613   \n7019      YISHUN   2022/9/1        487007       12224  13.096034   \n7020      YISHUN  2022/10/1        496268        9261  13.114871   \n7021      YISHUN  2022/11/1        488605       -7663  13.099310   \n7022      YISHUN  2022/12/1        474910      -13695  13.070881   \n\n      price_log_diff  \n0          -0.038451  \n1           0.032529  \n2           0.002558  \n3          -0.039924  \n4          -0.047554  \n...              ...  \n7018       -0.022704  \n7019        0.025421  \n7020        0.018838  \n7021       -0.015562  \n7022       -0.028429  \n\n[7023 rows x 6 columns]",
      "text/html": "<div>\n<style scoped>\n    .dataframe tbody tr th:only-of-type {\n        vertical-align: middle;\n    }\n\n    .dataframe tbody tr th {\n        vertical-align: top;\n    }\n\n    .dataframe thead th {\n        text-align: right;\n    }\n</style>\n<table border=\"1\" class=\"dataframe\">\n  <thead>\n    <tr style=\"text-align: right;\">\n      <th></th>\n      <th>town</th>\n      <th>month</th>\n      <th>resale_price</th>\n      <th>price_diff</th>\n      <th>price_log</th>\n      <th>price_log_diff</th>\n    </tr>\n  </thead>\n  <tbody>\n    <tr>\n      <th>0</th>\n      <td>ANG MO KIO</td>\n      <td>2000/2/1</td>\n      <td>218060</td>\n      <td>-8548</td>\n      <td>12.292526</td>\n      <td>-0.038451</td>\n    </tr>\n    <tr>\n      <th>1</th>\n      <td>ANG MO KIO</td>\n      <td>2000/3/1</td>\n      <td>225270</td>\n      <td>7210</td>\n      <td>12.325055</td>\n      <td>0.032529</td>\n    </tr>\n    <tr>\n      <th>2</th>\n      <td>ANG MO KIO</td>\n      <td>2000/4/1</td>\n      <td>225847</td>\n      <td>577</td>\n      <td>12.327613</td>\n      <td>0.002558</td>\n    </tr>\n    <tr>\n      <th>3</th>\n      <td>ANG MO KIO</td>\n      <td>2000/5/1</td>\n      <td>217008</td>\n      <td>-8839</td>\n      <td>12.287690</td>\n      <td>-0.039924</td>\n    </tr>\n    <tr>\n      <th>4</th>\n      <td>ANG MO KIO</td>\n      <td>2000/6/1</td>\n      <td>206930</td>\n      <td>-10078</td>\n      <td>12.240136</td>\n      <td>-0.047554</td>\n    </tr>\n    <tr>\n      <th>...</th>\n      <td>...</td>\n      <td>...</td>\n      <td>...</td>\n      <td>...</td>\n      <td>...</td>\n      <td>...</td>\n    </tr>\n    <tr>\n      <th>7018</th>\n      <td>YISHUN</td>\n      <td>2022/8/1</td>\n      <td>474783</td>\n      <td>-10903</td>\n      <td>13.070613</td>\n      <td>-0.022704</td>\n    </tr>\n    <tr>\n      <th>7019</th>\n      <td>YISHUN</td>\n      <td>2022/9/1</td>\n      <td>487007</td>\n      <td>12224</td>\n      <td>13.096034</td>\n      <td>0.025421</td>\n    </tr>\n    <tr>\n      <th>7020</th>\n      <td>YISHUN</td>\n      <td>2022/10/1</td>\n      <td>496268</td>\n      <td>9261</td>\n      <td>13.114871</td>\n      <td>0.018838</td>\n    </tr>\n    <tr>\n      <th>7021</th>\n      <td>YISHUN</td>\n      <td>2022/11/1</td>\n      <td>488605</td>\n      <td>-7663</td>\n      <td>13.099310</td>\n      <td>-0.015562</td>\n    </tr>\n    <tr>\n      <th>7022</th>\n      <td>YISHUN</td>\n      <td>2022/12/1</td>\n      <td>474910</td>\n      <td>-13695</td>\n      <td>13.070881</td>\n      <td>-0.028429</td>\n    </tr>\n  </tbody>\n</table>\n<p>7023 rows × 6 columns</p>\n</div>"
     },
     "execution_count": 3,
     "metadata": {},
     "output_type": "execute_result"
    }
   ],
   "source": [
    "df_resale"
   ],
   "metadata": {
    "collapsed": false,
    "pycharm": {
     "name": "#%%\n"
    }
   }
  },
  {
   "cell_type": "code",
   "execution_count": 4,
   "outputs": [
    {
     "data": {
      "text/plain": "0           NaN\n1        7210.0\n2         577.0\n3       -8839.0\n4      -10078.0\n         ...   \n7018   -10903.0\n7019    12224.0\n7020     9261.0\n7021    -7663.0\n7022   -13695.0\nName: resale_price, Length: 7023, dtype: float64"
     },
     "execution_count": 4,
     "metadata": {},
     "output_type": "execute_result"
    }
   ],
   "source": [
    "df_resale['resale_price'].diff()"
   ],
   "metadata": {
    "collapsed": false,
    "pycharm": {
     "name": "#%%\n"
    }
   }
  },
  {
   "cell_type": "code",
   "execution_count": 4,
   "outputs": [
    {
     "data": {
      "text/plain": "town               object\nmonth              object\nresale_price        int64\nprice_diff          int64\nprice_log         float64\nprice_log_diff    float64\ndtype: object"
     },
     "execution_count": 4,
     "metadata": {},
     "output_type": "execute_result"
    }
   ],
   "source": [
    "df_resale.dtypes"
   ],
   "metadata": {
    "collapsed": false,
    "pycharm": {
     "name": "#%%\n"
    }
   }
  },
  {
   "cell_type": "code",
   "execution_count": 5,
   "outputs": [],
   "source": [
    "town_list=list(set(df_resale.town))"
   ],
   "metadata": {
    "collapsed": false,
    "pycharm": {
     "name": "#%%\n"
    }
   }
  },
  {
   "cell_type": "code",
   "execution_count": 6,
   "outputs": [
    {
     "name": "stdout",
     "output_type": "stream",
     "text": [
      "1\n",
      "(271, 3)\n",
      "2\n",
      "(271, 4)\n",
      "3\n",
      "(271, 5)\n",
      "4\n",
      "(207, 6)\n",
      "5\n",
      "(207, 7)\n",
      "6\n",
      "(207, 8)\n",
      "7\n",
      "(207, 9)\n",
      "8\n",
      "(207, 10)\n",
      "9\n",
      "(207, 11)\n",
      "10\n",
      "(207, 12)\n",
      "11\n",
      "(207, 13)\n",
      "12\n",
      "(207, 14)\n",
      "13\n",
      "(207, 15)\n",
      "14\n",
      "(207, 16)\n",
      "15\n",
      "(207, 17)\n",
      "16\n",
      "(207, 18)\n",
      "17\n",
      "(207, 19)\n",
      "18\n",
      "(207, 20)\n",
      "19\n",
      "(207, 21)\n",
      "20\n",
      "(207, 22)\n",
      "21\n",
      "(207, 23)\n",
      "22\n",
      "(207, 24)\n",
      "23\n",
      "(206, 25)\n",
      "24\n",
      "(206, 26)\n",
      "25\n",
      "(206, 27)\n"
     ]
    }
   ],
   "source": [
    "t1=df_resale[df_resale.town==town_list[0]][['month','resale_price']]\n",
    "t1.rename(columns={'month': 'date','resale_price': 'resale_price_{}'.format(town_list[0])}, inplace=True)\n",
    "for i in range(1,len(town_list)):\n",
    "    print(i)\n",
    "    t2=df_resale[df_resale.town==town_list[i]][['month','resale_price']]\n",
    "    t2.rename(columns={'month': 'date','resale_price': 'resale_price_{}'.format(town_list[i])}, inplace=True)\n",
    "    t1=pd.merge(t1,t2,on=['date'],how='inner')\n",
    "    print(t1.shape)\n",
    "t1.to_csv('dataset/resale_price/resale_price_AF_train.csv', index=False)"
   ],
   "metadata": {
    "collapsed": false,
    "pycharm": {
     "name": "#%%\n"
    }
   }
  },
  {
   "cell_type": "code",
   "execution_count": 7,
   "outputs": [
    {
     "name": "stdout",
     "output_type": "stream",
     "text": [
      "1\n",
      "(20, 3)\n",
      "2\n",
      "(20, 4)\n",
      "3\n",
      "(20, 5)\n",
      "4\n",
      "(20, 6)\n",
      "5\n",
      "(20, 7)\n",
      "6\n",
      "(20, 8)\n",
      "7\n",
      "(20, 9)\n",
      "8\n",
      "(20, 10)\n",
      "9\n",
      "(20, 11)\n",
      "10\n",
      "(20, 12)\n",
      "11\n",
      "(20, 13)\n",
      "12\n",
      "(20, 14)\n",
      "13\n",
      "(20, 15)\n",
      "14\n",
      "(20, 16)\n",
      "15\n",
      "(20, 17)\n",
      "16\n",
      "(20, 18)\n",
      "17\n",
      "(20, 19)\n",
      "18\n",
      "(20, 20)\n",
      "19\n",
      "(20, 21)\n",
      "20\n",
      "(20, 22)\n",
      "21\n",
      "(20, 23)\n",
      "22\n",
      "(20, 24)\n",
      "23\n",
      "(20, 25)\n",
      "24\n",
      "(20, 26)\n",
      "25\n",
      "(20, 27)\n"
     ]
    }
   ],
   "source": [
    "t3=df_resale_test[df_resale_test.town==town_list[0]][['month','resale_price']]\n",
    "t3.rename(columns={'month': 'date','resale_price': 'resale_price_{}'.format(town_list[0])}, inplace=True)\n",
    "for i in range(1,len(town_list)):\n",
    "    print(i)\n",
    "    t4=df_resale_test[df_resale_test.town==town_list[i]][['month','resale_price']]\n",
    "    t4.rename(columns={'month': 'date','resale_price': 'resale_price_{}'.format(town_list[i])}, inplace=True)\n",
    "    t3=pd.merge(t3,t4,on=['date'],how='inner')\n",
    "    print(t3.shape)\n",
    "t3.to_csv('dataset/resale_price/resale_price_AF_test.csv', index=False)"
   ],
   "metadata": {
    "collapsed": false,
    "pycharm": {
     "name": "#%%\n"
    }
   }
  },
  {
   "cell_type": "code",
   "execution_count": 8,
   "outputs": [
    {
     "data": {
      "text/plain": "          date  resale_price_BUKIT TIMAH  resale_price_YISHUN  \\\n0   2023-01-01                  764500.0             487890.0   \n1   2023-02-01                  681444.0             476612.0   \n2   2023-03-01                  744500.0             487809.0   \n3   2023-04-01                  674500.0             504148.0   \n4   2023-05-01                  742778.0             495702.0   \n5   2023-06-01                  707500.0             481990.0   \n6   2023-07-01                 1016000.0             504181.0   \n7   2023-08-01                  957000.0             506387.0   \n8   2023-09-01                  987167.0             507901.0   \n9   2023-10-01                  796661.0             496871.0   \n10  2023-11-01                  662500.0             521302.0   \n11  2023-12-01                 1193333.0             519709.0   \n12  2024-01-01                  993000.0             526286.0   \n13  2024-02-01                  933481.0             526559.0   \n14  2024-03-01                  665000.0             539120.0   \n15  2024-04-01                  925500.0             517357.0   \n16  2024-05-01                  812500.0             529257.0   \n17  2024-06-01                  883560.0             531588.0   \n18  2024-07-01                  866111.0             545908.0   \n19  2024-08-01                  930270.0             553968.0   \n\n    resale_price_WOODLANDS  resale_price_TOA PAYOH  resale_price_PUNGGOL  \\\n0                 526208.0                590555.0              577844.0   \n1                 535434.0                586667.0              567776.0   \n2                 518502.0                605224.0              566733.0   \n3                 525821.0                626549.0              581339.0   \n4                 527481.0                536088.0              588559.0   \n5                 540138.0                567839.0              606166.0   \n6                 542724.0                570281.0              597012.0   \n7                 549449.0                573201.0              599304.0   \n8                 529175.0                625963.0              603519.0   \n9                 545257.0                516900.0              609655.0   \n10                551801.0                620782.0              604400.0   \n11                560403.0                616371.0              608374.0   \n12                556710.0                616101.0              628717.0   \n13                565481.0                611072.0              632119.0   \n14                557275.0                616173.0              621594.0   \n15                581861.0                629860.0              621813.0   \n16                567765.0                668308.0              632900.0   \n17                591260.0                670323.0              643975.0   \n18                580398.0                686515.0              643319.0   \n19                588866.0                610781.0              650776.0   \n\n    resale_price_KALLANG/WHAMPOA  resale_price_CLEMENTI  \\\n0                       609398.0               619068.0   \n1                       623599.0               534908.0   \n2                       595083.0               612836.0   \n3                       610575.0               614584.0   \n4                       662601.0               563880.0   \n5                       613480.0               625090.0   \n6                       694121.0               606988.0   \n7                       603731.0               618386.0   \n8                       604874.0               611374.0   \n9                       590011.0               657424.0   \n10                      678909.0               574633.0   \n11                      639698.0               564940.0   \n12                      693664.0               584635.0   \n13                      628706.0               655814.0   \n14                      679941.0               632830.0   \n15                      704066.0               611859.0   \n16                      653923.0               566990.0   \n17                      734389.0               604163.0   \n18                      694057.0               606783.0   \n19                      706950.0               611300.0   \n\n    resale_price_ANG MO KIO  resale_price_BUKIT BATOK  ...  \\\n0                  555067.0                  591361.0  ...   \n1                  499251.0                  549451.0  ...   \n2                  526176.0                  597392.0  ...   \n3                  548609.0                  575137.0  ...   \n4                  522410.0                  571322.0  ...   \n5                  528614.0                  584253.0  ...   \n6                  490503.0                  576065.0  ...   \n7                  538853.0                  559581.0  ...   \n8                  553763.0                  559929.0  ...   \n9                  569199.0                  579383.0  ...   \n10                 529972.0                  580153.0  ...   \n11                 551137.0                  540606.0  ...   \n12                 550045.0                  565365.0  ...   \n13                 539147.0                  566078.0  ...   \n14                 529061.0                  554056.0  ...   \n15                 588691.0                  562402.0  ...   \n16                 531004.0                  569320.0  ...   \n17                 561968.0                  565255.0  ...   \n18                 554017.0                  584898.0  ...   \n19                 604267.0                  576275.0  ...   \n\n    resale_price_SEMBAWANG  resale_price_BUKIT MERAH  resale_price_SENGKANG  \\\n0                 531895.0                  691561.0               565175.0   \n1                 538049.0                  644361.0               572126.0   \n2                 528615.0                  687412.0               593450.0   \n3                 531508.0                  681846.0               591855.0   \n4                 541841.0                  715717.0               590489.0   \n5                 551101.0                  705792.0               577234.0   \n6                 526941.0                  731604.0               582832.0   \n7                 531996.0                  705329.0               587797.0   \n8                 536207.0                  686020.0               592094.0   \n9                 552036.0                  716329.0               583255.0   \n10                560036.0                  706640.0               600241.0   \n11                563250.0                  711261.0               604590.0   \n12                544875.0                  755252.0               604071.0   \n13                544689.0                  713427.0               598481.0   \n14                578516.0                  697400.0               617284.0   \n15                554493.0                  698116.0               613131.0   \n16                576114.0                  709208.0               623277.0   \n17                581960.0                  751879.0               634059.0   \n18                577955.0                  753238.0               635028.0   \n19                584619.0                  722101.0               646603.0   \n\n    resale_price_BISHAN  resale_price_TAMPINES  resale_price_BUKIT PANJANG  \\\n0              733738.0               578339.0                    544735.0   \n1              721949.0               558112.0                    527748.0   \n2              765909.0               586078.0                    534628.0   \n3              798451.0               597799.0                    550739.0   \n4              723078.0               608039.0                    560994.0   \n5              762799.0               593506.0                    544777.0   \n6              782902.0               588831.0                    554147.0   \n7              805934.0               593261.0                    574310.0   \n8              859096.0               593546.0                    547251.0   \n9              783820.0               610457.0                    565107.0   \n10             761799.0               604127.0                    568973.0   \n11             796833.0               612723.0                    565772.0   \n12             943860.0               627114.0                    567172.0   \n13             766040.0               633928.0                    589941.0   \n14             791702.0               640481.0                    595652.0   \n15             775430.0               646321.0                    585980.0   \n16             769407.0               640232.0                    585596.0   \n17             911233.0               655906.0                    618949.0   \n18             793299.0               641864.0                    578657.0   \n19             832038.0               651362.0                    622566.0   \n\n    resale_price_JURONG EAST  resale_price_CENTRAL AREA  \\\n0                   487435.0                   684938.0   \n1                   526863.0                   639827.0   \n2                   486576.0                   723095.0   \n3                   531933.0                   810369.0   \n4                   467450.0                   755500.0   \n5                   528898.0                   693950.0   \n6                   553506.0                   598059.0   \n7                   553176.0                   828894.0   \n8                   478218.0                   705841.0   \n9                   531152.0                   692889.0   \n10                  498240.0                   580488.0   \n11                  524778.0                   727135.0   \n12                  515827.0                   612455.0   \n13                  492887.0                   610157.0   \n14                  510062.0                   676599.0   \n15                  508876.0                   603305.0   \n16                  496834.0                   830979.0   \n17                  519340.0                   714626.0   \n18                  535778.0                   680394.0   \n19                  534599.0                   825333.0   \n\n    resale_price_SERANGOON  resale_price_GEYLANG  \n0                 577653.0              462270.0  \n1                 637471.0              494795.0  \n2                 609545.0              497145.0  \n3                 578930.0              549672.0  \n4                 544829.0              608359.0  \n5                 588327.0              561788.0  \n6                 648667.0              554689.0  \n7                 589028.0              542217.0  \n8                 648729.0              572800.0  \n9                 620461.0              549726.0  \n10                637905.0              533721.0  \n11                595168.0              505376.0  \n12                676767.0              553767.0  \n13                684659.0              507569.0  \n14                634502.0              529672.0  \n15                643269.0              496342.0  \n16                629434.0              645683.0  \n17                738020.0              638276.0  \n18                668401.0              632964.0  \n19                641083.0              648595.0  \n\n[20 rows x 27 columns]",
      "text/html": "<div>\n<style scoped>\n    .dataframe tbody tr th:only-of-type {\n        vertical-align: middle;\n    }\n\n    .dataframe tbody tr th {\n        vertical-align: top;\n    }\n\n    .dataframe thead th {\n        text-align: right;\n    }\n</style>\n<table border=\"1\" class=\"dataframe\">\n  <thead>\n    <tr style=\"text-align: right;\">\n      <th></th>\n      <th>date</th>\n      <th>resale_price_BUKIT TIMAH</th>\n      <th>resale_price_YISHUN</th>\n      <th>resale_price_WOODLANDS</th>\n      <th>resale_price_TOA PAYOH</th>\n      <th>resale_price_PUNGGOL</th>\n      <th>resale_price_KALLANG/WHAMPOA</th>\n      <th>resale_price_CLEMENTI</th>\n      <th>resale_price_ANG MO KIO</th>\n      <th>resale_price_BUKIT BATOK</th>\n      <th>...</th>\n      <th>resale_price_SEMBAWANG</th>\n      <th>resale_price_BUKIT MERAH</th>\n      <th>resale_price_SENGKANG</th>\n      <th>resale_price_BISHAN</th>\n      <th>resale_price_TAMPINES</th>\n      <th>resale_price_BUKIT PANJANG</th>\n      <th>resale_price_JURONG EAST</th>\n      <th>resale_price_CENTRAL AREA</th>\n      <th>resale_price_SERANGOON</th>\n      <th>resale_price_GEYLANG</th>\n    </tr>\n  </thead>\n  <tbody>\n    <tr>\n      <th>0</th>\n      <td>2023-01-01</td>\n      <td>764500.0</td>\n      <td>487890.0</td>\n      <td>526208.0</td>\n      <td>590555.0</td>\n      <td>577844.0</td>\n      <td>609398.0</td>\n      <td>619068.0</td>\n      <td>555067.0</td>\n      <td>591361.0</td>\n      <td>...</td>\n      <td>531895.0</td>\n      <td>691561.0</td>\n      <td>565175.0</td>\n      <td>733738.0</td>\n      <td>578339.0</td>\n      <td>544735.0</td>\n      <td>487435.0</td>\n      <td>684938.0</td>\n      <td>577653.0</td>\n      <td>462270.0</td>\n    </tr>\n    <tr>\n      <th>1</th>\n      <td>2023-02-01</td>\n      <td>681444.0</td>\n      <td>476612.0</td>\n      <td>535434.0</td>\n      <td>586667.0</td>\n      <td>567776.0</td>\n      <td>623599.0</td>\n      <td>534908.0</td>\n      <td>499251.0</td>\n      <td>549451.0</td>\n      <td>...</td>\n      <td>538049.0</td>\n      <td>644361.0</td>\n      <td>572126.0</td>\n      <td>721949.0</td>\n      <td>558112.0</td>\n      <td>527748.0</td>\n      <td>526863.0</td>\n      <td>639827.0</td>\n      <td>637471.0</td>\n      <td>494795.0</td>\n    </tr>\n    <tr>\n      <th>2</th>\n      <td>2023-03-01</td>\n      <td>744500.0</td>\n      <td>487809.0</td>\n      <td>518502.0</td>\n      <td>605224.0</td>\n      <td>566733.0</td>\n      <td>595083.0</td>\n      <td>612836.0</td>\n      <td>526176.0</td>\n      <td>597392.0</td>\n      <td>...</td>\n      <td>528615.0</td>\n      <td>687412.0</td>\n      <td>593450.0</td>\n      <td>765909.0</td>\n      <td>586078.0</td>\n      <td>534628.0</td>\n      <td>486576.0</td>\n      <td>723095.0</td>\n      <td>609545.0</td>\n      <td>497145.0</td>\n    </tr>\n    <tr>\n      <th>3</th>\n      <td>2023-04-01</td>\n      <td>674500.0</td>\n      <td>504148.0</td>\n      <td>525821.0</td>\n      <td>626549.0</td>\n      <td>581339.0</td>\n      <td>610575.0</td>\n      <td>614584.0</td>\n      <td>548609.0</td>\n      <td>575137.0</td>\n      <td>...</td>\n      <td>531508.0</td>\n      <td>681846.0</td>\n      <td>591855.0</td>\n      <td>798451.0</td>\n      <td>597799.0</td>\n      <td>550739.0</td>\n      <td>531933.0</td>\n      <td>810369.0</td>\n      <td>578930.0</td>\n      <td>549672.0</td>\n    </tr>\n    <tr>\n      <th>4</th>\n      <td>2023-05-01</td>\n      <td>742778.0</td>\n      <td>495702.0</td>\n      <td>527481.0</td>\n      <td>536088.0</td>\n      <td>588559.0</td>\n      <td>662601.0</td>\n      <td>563880.0</td>\n      <td>522410.0</td>\n      <td>571322.0</td>\n      <td>...</td>\n      <td>541841.0</td>\n      <td>715717.0</td>\n      <td>590489.0</td>\n      <td>723078.0</td>\n      <td>608039.0</td>\n      <td>560994.0</td>\n      <td>467450.0</td>\n      <td>755500.0</td>\n      <td>544829.0</td>\n      <td>608359.0</td>\n    </tr>\n    <tr>\n      <th>5</th>\n      <td>2023-06-01</td>\n      <td>707500.0</td>\n      <td>481990.0</td>\n      <td>540138.0</td>\n      <td>567839.0</td>\n      <td>606166.0</td>\n      <td>613480.0</td>\n      <td>625090.0</td>\n      <td>528614.0</td>\n      <td>584253.0</td>\n      <td>...</td>\n      <td>551101.0</td>\n      <td>705792.0</td>\n      <td>577234.0</td>\n      <td>762799.0</td>\n      <td>593506.0</td>\n      <td>544777.0</td>\n      <td>528898.0</td>\n      <td>693950.0</td>\n      <td>588327.0</td>\n      <td>561788.0</td>\n    </tr>\n    <tr>\n      <th>6</th>\n      <td>2023-07-01</td>\n      <td>1016000.0</td>\n      <td>504181.0</td>\n      <td>542724.0</td>\n      <td>570281.0</td>\n      <td>597012.0</td>\n      <td>694121.0</td>\n      <td>606988.0</td>\n      <td>490503.0</td>\n      <td>576065.0</td>\n      <td>...</td>\n      <td>526941.0</td>\n      <td>731604.0</td>\n      <td>582832.0</td>\n      <td>782902.0</td>\n      <td>588831.0</td>\n      <td>554147.0</td>\n      <td>553506.0</td>\n      <td>598059.0</td>\n      <td>648667.0</td>\n      <td>554689.0</td>\n    </tr>\n    <tr>\n      <th>7</th>\n      <td>2023-08-01</td>\n      <td>957000.0</td>\n      <td>506387.0</td>\n      <td>549449.0</td>\n      <td>573201.0</td>\n      <td>599304.0</td>\n      <td>603731.0</td>\n      <td>618386.0</td>\n      <td>538853.0</td>\n      <td>559581.0</td>\n      <td>...</td>\n      <td>531996.0</td>\n      <td>705329.0</td>\n      <td>587797.0</td>\n      <td>805934.0</td>\n      <td>593261.0</td>\n      <td>574310.0</td>\n      <td>553176.0</td>\n      <td>828894.0</td>\n      <td>589028.0</td>\n      <td>542217.0</td>\n    </tr>\n    <tr>\n      <th>8</th>\n      <td>2023-09-01</td>\n      <td>987167.0</td>\n      <td>507901.0</td>\n      <td>529175.0</td>\n      <td>625963.0</td>\n      <td>603519.0</td>\n      <td>604874.0</td>\n      <td>611374.0</td>\n      <td>553763.0</td>\n      <td>559929.0</td>\n      <td>...</td>\n      <td>536207.0</td>\n      <td>686020.0</td>\n      <td>592094.0</td>\n      <td>859096.0</td>\n      <td>593546.0</td>\n      <td>547251.0</td>\n      <td>478218.0</td>\n      <td>705841.0</td>\n      <td>648729.0</td>\n      <td>572800.0</td>\n    </tr>\n    <tr>\n      <th>9</th>\n      <td>2023-10-01</td>\n      <td>796661.0</td>\n      <td>496871.0</td>\n      <td>545257.0</td>\n      <td>516900.0</td>\n      <td>609655.0</td>\n      <td>590011.0</td>\n      <td>657424.0</td>\n      <td>569199.0</td>\n      <td>579383.0</td>\n      <td>...</td>\n      <td>552036.0</td>\n      <td>716329.0</td>\n      <td>583255.0</td>\n      <td>783820.0</td>\n      <td>610457.0</td>\n      <td>565107.0</td>\n      <td>531152.0</td>\n      <td>692889.0</td>\n      <td>620461.0</td>\n      <td>549726.0</td>\n    </tr>\n    <tr>\n      <th>10</th>\n      <td>2023-11-01</td>\n      <td>662500.0</td>\n      <td>521302.0</td>\n      <td>551801.0</td>\n      <td>620782.0</td>\n      <td>604400.0</td>\n      <td>678909.0</td>\n      <td>574633.0</td>\n      <td>529972.0</td>\n      <td>580153.0</td>\n      <td>...</td>\n      <td>560036.0</td>\n      <td>706640.0</td>\n      <td>600241.0</td>\n      <td>761799.0</td>\n      <td>604127.0</td>\n      <td>568973.0</td>\n      <td>498240.0</td>\n      <td>580488.0</td>\n      <td>637905.0</td>\n      <td>533721.0</td>\n    </tr>\n    <tr>\n      <th>11</th>\n      <td>2023-12-01</td>\n      <td>1193333.0</td>\n      <td>519709.0</td>\n      <td>560403.0</td>\n      <td>616371.0</td>\n      <td>608374.0</td>\n      <td>639698.0</td>\n      <td>564940.0</td>\n      <td>551137.0</td>\n      <td>540606.0</td>\n      <td>...</td>\n      <td>563250.0</td>\n      <td>711261.0</td>\n      <td>604590.0</td>\n      <td>796833.0</td>\n      <td>612723.0</td>\n      <td>565772.0</td>\n      <td>524778.0</td>\n      <td>727135.0</td>\n      <td>595168.0</td>\n      <td>505376.0</td>\n    </tr>\n    <tr>\n      <th>12</th>\n      <td>2024-01-01</td>\n      <td>993000.0</td>\n      <td>526286.0</td>\n      <td>556710.0</td>\n      <td>616101.0</td>\n      <td>628717.0</td>\n      <td>693664.0</td>\n      <td>584635.0</td>\n      <td>550045.0</td>\n      <td>565365.0</td>\n      <td>...</td>\n      <td>544875.0</td>\n      <td>755252.0</td>\n      <td>604071.0</td>\n      <td>943860.0</td>\n      <td>627114.0</td>\n      <td>567172.0</td>\n      <td>515827.0</td>\n      <td>612455.0</td>\n      <td>676767.0</td>\n      <td>553767.0</td>\n    </tr>\n    <tr>\n      <th>13</th>\n      <td>2024-02-01</td>\n      <td>933481.0</td>\n      <td>526559.0</td>\n      <td>565481.0</td>\n      <td>611072.0</td>\n      <td>632119.0</td>\n      <td>628706.0</td>\n      <td>655814.0</td>\n      <td>539147.0</td>\n      <td>566078.0</td>\n      <td>...</td>\n      <td>544689.0</td>\n      <td>713427.0</td>\n      <td>598481.0</td>\n      <td>766040.0</td>\n      <td>633928.0</td>\n      <td>589941.0</td>\n      <td>492887.0</td>\n      <td>610157.0</td>\n      <td>684659.0</td>\n      <td>507569.0</td>\n    </tr>\n    <tr>\n      <th>14</th>\n      <td>2024-03-01</td>\n      <td>665000.0</td>\n      <td>539120.0</td>\n      <td>557275.0</td>\n      <td>616173.0</td>\n      <td>621594.0</td>\n      <td>679941.0</td>\n      <td>632830.0</td>\n      <td>529061.0</td>\n      <td>554056.0</td>\n      <td>...</td>\n      <td>578516.0</td>\n      <td>697400.0</td>\n      <td>617284.0</td>\n      <td>791702.0</td>\n      <td>640481.0</td>\n      <td>595652.0</td>\n      <td>510062.0</td>\n      <td>676599.0</td>\n      <td>634502.0</td>\n      <td>529672.0</td>\n    </tr>\n    <tr>\n      <th>15</th>\n      <td>2024-04-01</td>\n      <td>925500.0</td>\n      <td>517357.0</td>\n      <td>581861.0</td>\n      <td>629860.0</td>\n      <td>621813.0</td>\n      <td>704066.0</td>\n      <td>611859.0</td>\n      <td>588691.0</td>\n      <td>562402.0</td>\n      <td>...</td>\n      <td>554493.0</td>\n      <td>698116.0</td>\n      <td>613131.0</td>\n      <td>775430.0</td>\n      <td>646321.0</td>\n      <td>585980.0</td>\n      <td>508876.0</td>\n      <td>603305.0</td>\n      <td>643269.0</td>\n      <td>496342.0</td>\n    </tr>\n    <tr>\n      <th>16</th>\n      <td>2024-05-01</td>\n      <td>812500.0</td>\n      <td>529257.0</td>\n      <td>567765.0</td>\n      <td>668308.0</td>\n      <td>632900.0</td>\n      <td>653923.0</td>\n      <td>566990.0</td>\n      <td>531004.0</td>\n      <td>569320.0</td>\n      <td>...</td>\n      <td>576114.0</td>\n      <td>709208.0</td>\n      <td>623277.0</td>\n      <td>769407.0</td>\n      <td>640232.0</td>\n      <td>585596.0</td>\n      <td>496834.0</td>\n      <td>830979.0</td>\n      <td>629434.0</td>\n      <td>645683.0</td>\n    </tr>\n    <tr>\n      <th>17</th>\n      <td>2024-06-01</td>\n      <td>883560.0</td>\n      <td>531588.0</td>\n      <td>591260.0</td>\n      <td>670323.0</td>\n      <td>643975.0</td>\n      <td>734389.0</td>\n      <td>604163.0</td>\n      <td>561968.0</td>\n      <td>565255.0</td>\n      <td>...</td>\n      <td>581960.0</td>\n      <td>751879.0</td>\n      <td>634059.0</td>\n      <td>911233.0</td>\n      <td>655906.0</td>\n      <td>618949.0</td>\n      <td>519340.0</td>\n      <td>714626.0</td>\n      <td>738020.0</td>\n      <td>638276.0</td>\n    </tr>\n    <tr>\n      <th>18</th>\n      <td>2024-07-01</td>\n      <td>866111.0</td>\n      <td>545908.0</td>\n      <td>580398.0</td>\n      <td>686515.0</td>\n      <td>643319.0</td>\n      <td>694057.0</td>\n      <td>606783.0</td>\n      <td>554017.0</td>\n      <td>584898.0</td>\n      <td>...</td>\n      <td>577955.0</td>\n      <td>753238.0</td>\n      <td>635028.0</td>\n      <td>793299.0</td>\n      <td>641864.0</td>\n      <td>578657.0</td>\n      <td>535778.0</td>\n      <td>680394.0</td>\n      <td>668401.0</td>\n      <td>632964.0</td>\n    </tr>\n    <tr>\n      <th>19</th>\n      <td>2024-08-01</td>\n      <td>930270.0</td>\n      <td>553968.0</td>\n      <td>588866.0</td>\n      <td>610781.0</td>\n      <td>650776.0</td>\n      <td>706950.0</td>\n      <td>611300.0</td>\n      <td>604267.0</td>\n      <td>576275.0</td>\n      <td>...</td>\n      <td>584619.0</td>\n      <td>722101.0</td>\n      <td>646603.0</td>\n      <td>832038.0</td>\n      <td>651362.0</td>\n      <td>622566.0</td>\n      <td>534599.0</td>\n      <td>825333.0</td>\n      <td>641083.0</td>\n      <td>648595.0</td>\n    </tr>\n  </tbody>\n</table>\n<p>20 rows × 27 columns</p>\n</div>"
     },
     "execution_count": 8,
     "metadata": {},
     "output_type": "execute_result"
    }
   ],
   "source": [
    "t3"
   ],
   "metadata": {
    "collapsed": false,
    "pycharm": {
     "name": "#%%\n"
    }
   }
  }
 ],
 "metadata": {
  "kernelspec": {
   "display_name": "Python 3",
   "language": "python",
   "name": "python3"
  },
  "language_info": {
   "codemirror_mode": {
    "name": "ipython",
    "version": 2
   },
   "file_extension": ".py",
   "mimetype": "text/x-python",
   "name": "python",
   "nbconvert_exporter": "python",
   "pygments_lexer": "ipython2",
   "version": "2.7.6"
  }
 },
 "nbformat": 4,
 "nbformat_minor": 0
}